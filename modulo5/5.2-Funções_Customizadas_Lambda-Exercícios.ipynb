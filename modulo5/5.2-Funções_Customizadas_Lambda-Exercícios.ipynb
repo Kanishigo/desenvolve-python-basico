{
 "cells": [
  {
   "cell_type": "markdown",
   "id": "cbdff5a5",
   "metadata": {},
   "source": [
    "# Módulo 5 - Funções\n",
    "\n",
    "## Aulas 5.2 - Funções Customizadas e 5.4 Funções ```lambda```"
   ]
  },
  {
   "cell_type": "markdown",
   "id": "28a3fee2",
   "metadata": {},
   "source": [
    "### Q1.\n",
    "\n",
    "- Sabendo que o código a seguir calcula o fatorial de n, escreva uma função chamada ```fatorial()``` que recebe um inteiro ```n``` como parâmetro e retorna o resultado do fatorial de ```n```. \n",
    "- No programa principal, peça ao usuário o valor de ```n```, chame a sua função e imprima o retorno.\n",
    "\n",
    "```python\n",
    "fat = 1\n",
    "for i in range(1, n+1):\n",
    "    fat *= i \n",
    "```"
   ]
  },
  {
   "cell_type": "code",
   "execution_count": 3,
   "id": "d126b3a5",
   "metadata": {},
   "outputs": [],
   "source": [
    "## Crie aqui a função fatorial()\n",
    "## lembre-se de executar a célula para que \n",
    "## a função passe a existir e possa ser chamada\n",
    "def fatorial(n):\n",
    "    fat = 1\n",
    "    for i in range (1, n+1):\n",
    "        fat *= i\n",
    "    return fat"
   ]
  },
  {
   "cell_type": "code",
   "execution_count": 4,
   "id": "6e4fe64e",
   "metadata": {},
   "outputs": [
    {
     "name": "stdin",
     "output_type": "stream",
     "text": [
      "Digite um valor inteiro:  6\n"
     ]
    },
    {
     "name": "stdout",
     "output_type": "stream",
     "text": [
      "720\n"
     ]
    }
   ],
   "source": [
    "## Escreva aqui o programa principal e execute a célula\n",
    "n = int (input (\"Digite um valor inteiro: \"))\n",
    "final = fatorial (n)\n",
    "print (final)"
   ]
  },
  {
   "cell_type": "markdown",
   "id": "c0a1f599",
   "metadata": {},
   "source": [
    "### Q2.\n",
    "\n",
    "- Escreva uma função em Python chamada ```soma_quadrados``` que recebe dois números como parâmetros e retorna a soma dos seus quadrados. \n",
    "- No programa principal solicite ao usuário que insira dois números e utilize a função para exibir a soma dos quadrados."
   ]
  },
  {
   "cell_type": "code",
   "execution_count": 7,
   "id": "6dbddaad",
   "metadata": {},
   "outputs": [],
   "source": [
    "## Crie aqui a função soma_quadrados()\n",
    "def soma_quadrados (x, y):\n",
    "    soma = x**2 + y**2\n",
    "    return soma"
   ]
  },
  {
   "cell_type": "code",
   "execution_count": 8,
   "id": "9175a7da",
   "metadata": {},
   "outputs": [
    {
     "name": "stdin",
     "output_type": "stream",
     "text": [
      "Digite o primeiro número inteiro:  4\n",
      "Digite o segundo número inteiro:  5\n"
     ]
    },
    {
     "name": "stdout",
     "output_type": "stream",
     "text": [
      "A soma dos quadrados de  4  e  5  é igual a  41\n"
     ]
    }
   ],
   "source": [
    "## Escreva aqui o programa principal e execute a célula\n",
    "n1 = int (input (\"Digite o primeiro número inteiro: \"))\n",
    "n2 = int (input (\"Digite o segundo número inteiro: \"))\n",
    "result = soma_quadrados (n1, n2)\n",
    "print (\"A soma dos quadrados de \", n1, \" e \", n2, \" é igual a \", result)"
   ]
  },
  {
   "cell_type": "markdown",
   "id": "6ba34ce0",
   "metadata": {},
   "source": [
    "### Q3.\n",
    "\n",
    "- Crie uma função em Python chamada ```soma_digitos``` que recebe um número inteiro como parâmetro e retorna a soma dos seus dígitos. Por exemplo, para o número 123, a função deve retornar 6, $(1 + 2 + 3)$.\n",
    "    - O desafio aqui é separar os dígitos de um número inteiro usando operações aritméticas <br> <br>\n",
    "\n",
    "- No programa principal solicite ao usuário que insira um número e utilize a função ```soma_digitos``` para calcular e exibir a soma dos seus dígitos."
   ]
  },
  {
   "cell_type": "code",
   "execution_count": 19,
   "id": "34838ebf",
   "metadata": {},
   "outputs": [],
   "source": [
    "## Crie aqui a função soma_digitos()\n",
    "def soma_digitos (n):\n",
    "    cent = n // 100\n",
    "    dez = (n-cent*100) // 10\n",
    "    unid = (n-(dez*10+cent*100))\n",
    "    soma = cent + dez + unid\n",
    "    return soma"
   ]
  },
  {
   "cell_type": "code",
   "execution_count": 20,
   "id": "27c35b21",
   "metadata": {},
   "outputs": [
    {
     "name": "stdin",
     "output_type": "stream",
     "text": [
      "Digite um valor inteiro (Máximo: 999):  842\n"
     ]
    },
    {
     "name": "stdout",
     "output_type": "stream",
     "text": [
      "A soma dos dígitos de  842  é  14\n"
     ]
    }
   ],
   "source": [
    "## Escreva aqui o programa principal e execute a célula\n",
    "n = int (input (\"Digite um valor inteiro (Máximo: 999): \"))\n",
    "result = soma_digitos(n)\n",
    "print (\"A soma dos dígitos de \", n, \" é \", result)"
   ]
  },
  {
   "cell_type": "markdown",
   "id": "c318b159",
   "metadata": {},
   "source": [
    "### Q4.\n",
    "\n",
    "- Crie a função ```inverteValor()``` que recebe um inteiro de qualquer tamanho e retorna esse valor invertido usando apenas operações aritméticas\n",
    "- Crie a função ```verificaInverso()``` que recebe o valor original e o valor invertido e retorna verdadeiro se ambos forem igualmente par ou igualmente ímpar. Retorne falso caso contrário.\n",
    "- No programa principal, peça um valor do usuário e imprima o retorno de ambas as funções.\n"
   ]
  },
  {
   "cell_type": "code",
   "execution_count": 35,
   "id": "e4e47d1d",
   "metadata": {
    "scrolled": true
   },
   "outputs": [],
   "source": [
    "## Crie aqui as funções inverteValor() e verificaInverso()\n",
    "def inverteValor (n):\n",
    "    invertido = 0\n",
    "    while n > 0:\n",
    "        inversao = n % 10\n",
    "        n //= 10\n",
    "        invertido = invertido * 10 + inversao\n",
    "    return invertido\n",
    "\n",
    "def verificaInversao (digitado, invertido):\n",
    "    if ((digitado % 2 == 0 and invertido % 2 == 0) or (digitado % 2 != 0 and invertido % 2 != 0)):\n",
    "        verifica = True\n",
    "    else:\n",
    "        verifica = False\n",
    "    return verifica\n"
   ]
  },
  {
   "cell_type": "code",
   "execution_count": 36,
   "id": "a9514e56",
   "metadata": {},
   "outputs": [
    {
     "name": "stdin",
     "output_type": "stream",
     "text": [
      "Digite um número inteiro:  268\n"
     ]
    },
    {
     "name": "stdout",
     "output_type": "stream",
     "text": [
      "Valor invertido:  862\n",
      "Valor digitado e invertido são, simultaneamente, par ou ímpar:  True\n"
     ]
    }
   ],
   "source": [
    "## Escreva aqui o programa principal e execute a célula\n",
    "n = int (input (\"Digite um número inteiro: \"))\n",
    "invert = inverteValor(n)\n",
    "par_impar = verificaInversao (n, invert)\n",
    "print (\"Valor invertido: \", invert)\n",
    "print (\"Valor digitado e invertido são, simultaneamente, par ou ímpar: \", par_impar)"
   ]
  },
  {
   "cell_type": "markdown",
   "id": "329be966",
   "metadata": {},
   "source": [
    "### Q5.\n",
    "\n",
    "Você está desenvolvendo um programa para auxiliar em cálculos de geometria básica. Crie as seguintes funções:\n",
    "- A função ```calcula_perimetro_triangulo()``` que recebe três inteiros correspondentes aos lados de um triângulo e retorna o perímetro do triângulo, ou seja, a soma dos seus lados.\n",
    "- A função ```calcula_perimetro_circulo()``` que recebe um inteiro referente ao raio do círculo e retorna o perímetro do círculo, dado por $2 \\pi r$. Use a constante $\\pi$ da biblioteca ```math```.\n",
    "- A função ```calcula_perimetro_retangulo()``` que possui um parâmetro obrigatório ```lado1``` e um opcional ```lado2```, ambos inteiros. Se o valor opcional não for fornecido, significa que se trata de um quadrado. Sua função deve calcular e retornar o perímetro do retângulo, ou seja, a soma de seus lados. \n",
    "    - Para o quadrado, é dado por $4 \\times lado1$\n",
    "    - Para o retângulo é dado por $2 \\times lado1 + 2 \\times lado2$\n",
    "    \n",
    "- No programa principal apresente um menu com as opções disponíveis do seu sistema e uma quarta opção ```Sair```. Solicite ao usuário a opção desejada, solicite as entradas correspondentes à opção escolhida, invoque a respective função e apresente o seu retorno. Seu programa deve retornar ao menu até que o usuário escolha a opção ```Sair```\n",
    "\n",
    "Exemplo de interação:\n",
    "```\n",
    "1 - Calcular perímetro triângulo\n",
    "2 - Calcular perímetro círculo\n",
    "3 - Calcular perímetro retângulo\n",
    "4 - Sair\n",
    "\n",
    "Opção: 1\n",
    "Digite os três lados do triângulo:\n",
    "3\n",
    "4\n",
    "5\n",
    "O perímetro é: 12\n",
    "\n",
    "1 - Calcular perímetro triângulo\n",
    "2 - Calcular perímetro círculo\n",
    "3 - Calcular perímetro retângulo\n",
    "4 - Sair\n",
    "\n",
    "Opção: 3\n",
    "Informe os dois lados do retângulo. Se for um quadrado, digite 0 para o segundo valor:\n",
    "5\n",
    "0\n",
    "O perímetro é: 20\n",
    "\n",
    "1 - Calcular perímetro triângulo\n",
    "2 - Calcular perímetro círculo\n",
    "3 - Calcular perímetro retângulo\n",
    "4 - Sair\n",
    "\n",
    "Opção: 4\n",
    "```"
   ]
  },
  {
   "cell_type": "code",
   "execution_count": 37,
   "id": "0793d328",
   "metadata": {},
   "outputs": [],
   "source": [
    "## Crie aqui as funções \n",
    "def calcula_perimetro_triangulo (a, b, c):\n",
    "    return a + b + c\n",
    "\n",
    "def calcula_perimetro_circulo (raio):\n",
    "    import math\n",
    "    return 2*math.pi*raio\n",
    "\n",
    "def calcula_perimetro_retangulo (l1, l2):\n",
    "    if (l2 == 0):\n",
    "        return 4 * l1\n",
    "    else:\n",
    "        return 2 * l1 + 2 * l2"
   ]
  },
  {
   "cell_type": "code",
   "execution_count": 46,
   "id": "36269c71",
   "metadata": {
    "scrolled": true
   },
   "outputs": [
    {
     "name": "stdout",
     "output_type": "stream",
     "text": [
      " --- CÁLCULO DE PERÍMETROS --- \n",
      "1 - Triângulo\n",
      "2 - Círculo\n",
      "3 - Retângulo\n",
      "4 - Sair\n"
     ]
    },
    {
     "name": "stdin",
     "output_type": "stream",
     "text": [
      "Digite sua opção:  2\n",
      "Digite o valor do raio:  3\n"
     ]
    },
    {
     "name": "stdout",
     "output_type": "stream",
     "text": [
      "18.84955592153876\n",
      " --- CÁLCULO DE PERÍMETROS --- \n",
      "1 - Triângulo\n",
      "2 - Círculo\n",
      "3 - Retângulo\n",
      "4 - Sair\n"
     ]
    },
    {
     "name": "stdin",
     "output_type": "stream",
     "text": [
      "Digite sua opção:  3\n",
      "Digite o valor do lado 1:  5\n",
      "Digite o valor do lado 2 (0 se não houver):  0\n"
     ]
    },
    {
     "name": "stdout",
     "output_type": "stream",
     "text": [
      "20\n",
      " --- CÁLCULO DE PERÍMETROS --- \n",
      "1 - Triângulo\n",
      "2 - Círculo\n",
      "3 - Retângulo\n",
      "4 - Sair\n"
     ]
    },
    {
     "name": "stdin",
     "output_type": "stream",
     "text": [
      "Digite sua opção:  3\n",
      "Digite o valor do lado 1:  2\n",
      "Digite o valor do lado 2 (0 se não houver):  3\n"
     ]
    },
    {
     "name": "stdout",
     "output_type": "stream",
     "text": [
      "10\n",
      " --- CÁLCULO DE PERÍMETROS --- \n",
      "1 - Triângulo\n",
      "2 - Círculo\n",
      "3 - Retângulo\n",
      "4 - Sair\n"
     ]
    },
    {
     "name": "stdin",
     "output_type": "stream",
     "text": [
      "Digite sua opção:  4\n"
     ]
    },
    {
     "name": "stdout",
     "output_type": "stream",
     "text": [
      "Fim do Programa\n"
     ]
    }
   ],
   "source": [
    "## Escreva aqui o programa principal \n",
    "import math\n",
    "escolha = 0\n",
    "while escolha != 4:\n",
    "    print (\" --- CÁLCULO DE PERÍMETROS --- \")\n",
    "    print (\"1 - Triângulo\")\n",
    "    print (\"2 - Círculo\")\n",
    "    print (\"3 - Retângulo\")\n",
    "    print (\"4 - Sair\")\n",
    "    escolha = int (input (\"Digite sua opção: \"))\n",
    "    if (escolha == 1):\n",
    "        n1 = int (input (\"Digite o valor do primeiro lado: \"))\n",
    "        n2 = int (input (\"Digite o valor do segundo lado: \"))\n",
    "        n3 = int (input (\"Digite o valor do terceiro lado: \"))\n",
    "        print (calcula_perimetro_triangulo (n1, n2, n3))\n",
    "    elif (escolha == 2):\n",
    "        r = int (input (\"Digite o valor do raio: \"))\n",
    "        print (calcula_perimetro_circulo (r))\n",
    "    elif (escolha == 3):\n",
    "        lado1 = int (input (\"Digite o valor do lado 1: \"))\n",
    "        lado2 = int (input (\"Digite o valor do lado 2 (0 se não houver): \"))\n",
    "        print (calcula_perimetro_retangulo (lado1, lado2))\n",
    "    else:\n",
    "        break\n",
    "print (\"Fim do Programa\")"
   ]
  },
  {
   "cell_type": "markdown",
   "id": "3016bcc7",
   "metadata": {},
   "source": [
    "## Funções ```lambda```"
   ]
  },
  {
   "cell_type": "markdown",
   "id": "f9cdb8dd",
   "metadata": {},
   "source": [
    "### Q6.\n",
    "\n",
    "Crie uma função lambda para verificar se um número é par ou ímpar. Em seguida, solicite ao usuário um número indefinidos de valores (até que o usuário digite 0). Para cada valor de entrada, informe se é par ou ímpar.\n",
    "\n",
    "Exemplo de interação:\n",
    "```\n",
    "Digite os valores que deseja verificar a paridade (digite 0 para finalizar a entrada de dados):\n",
    "3\n",
    "ímpar\n",
    "8\n",
    "par\n",
    "12\n",
    "par\n",
    "5\n",
    "ímpar\n",
    "7ímpar\n",
    "```"
   ]
  },
  {
   "cell_type": "code",
   "execution_count": 64,
   "id": "e3c31a78",
   "metadata": {},
   "outputs": [
    {
     "name": "stdin",
     "output_type": "stream",
     "text": [
      "Digite os valores que deseja verificar a paridade (digite 0 para finalizar a entrada de dados):  2\n"
     ]
    },
    {
     "name": "stdout",
     "output_type": "stream",
     "text": [
      "Par\n"
     ]
    },
    {
     "name": "stdin",
     "output_type": "stream",
     "text": [
      " 3\n"
     ]
    },
    {
     "name": "stdout",
     "output_type": "stream",
     "text": [
      "Ímpar\n"
     ]
    },
    {
     "name": "stdin",
     "output_type": "stream",
     "text": [
      " 2\n"
     ]
    },
    {
     "name": "stdout",
     "output_type": "stream",
     "text": [
      "Par\n"
     ]
    },
    {
     "name": "stdin",
     "output_type": "stream",
     "text": [
      " 5\n"
     ]
    },
    {
     "name": "stdout",
     "output_type": "stream",
     "text": [
      "Ímpar\n"
     ]
    },
    {
     "name": "stdin",
     "output_type": "stream",
     "text": [
      " 4\n"
     ]
    },
    {
     "name": "stdout",
     "output_type": "stream",
     "text": [
      "Par\n"
     ]
    },
    {
     "name": "stdin",
     "output_type": "stream",
     "text": [
      " 0\n"
     ]
    }
   ],
   "source": [
    "n = int (input (\"Digite os valores que deseja verificar a paridade (digite 0 para finalizar a entrada de dados): \"))\n",
    "while n != 0:\n",
    "    (lambda x: print (\"Par\")\n",
    "        if (x % 2 == 0) else\n",
    "        print (\"Ímpar\"))(n)\n",
    "    n = int (input())"
   ]
  },
  {
   "cell_type": "markdown",
   "id": "5a87474d",
   "metadata": {},
   "source": [
    "### Q7.\n",
    "\n",
    "Escreva um programa que pergunte ao usuário qual operação ele deseja: maior ou menor.\n",
    "Em seguida leia uma quantidade indefinida de valores do usuário, até que o usuário digite o valor zero.\n",
    "Apresente ao final o maior ou menor dos valores digitados de acordo com a escolha do usuário.\n",
    "\n",
    "**Sua solução deve incluir pelo menos uma função ```lambda```** \n",
    "\n",
    "Exemplo de interação:\n",
    "```\n",
    "Opções: (1) maior ou (2) menor?\n",
    "Opção: 1\n",
    "\n",
    "Digite os valores de entrada. Digite 0 para finalizar a entrada de valores.\n",
    "4\n",
    "12\n",
    "15\n",
    "1\n",
    "0\n",
    "\n",
    "O maior valor é: 15\n",
    "```"
   ]
  },
  {
   "cell_type": "code",
   "execution_count": 85,
   "id": "ee3f68ca",
   "metadata": {},
   "outputs": [
    {
     "name": "stdout",
     "output_type": "stream",
     "text": [
      "Opções: (1) maior ou (2) menor?\n"
     ]
    },
    {
     "name": "stdin",
     "output_type": "stream",
     "text": [
      "Opção:  2\n"
     ]
    },
    {
     "name": "stdout",
     "output_type": "stream",
     "text": [
      "Digite os valores de entrada. Digite 0 para finalizar a entrada de valores.\n"
     ]
    },
    {
     "name": "stdin",
     "output_type": "stream",
     "text": [
      " 5\n",
      " 8\n",
      " 4\n",
      " 6\n",
      " 1\n",
      " 52\n",
      " 3\n",
      " 0\n"
     ]
    },
    {
     "name": "stdout",
     "output_type": "stream",
     "text": [
      "1\n"
     ]
    }
   ],
   "source": [
    "## Escreva aqui o programa principal \n",
    "print (\"Opções: (1) maior ou (2) menor?\")\n",
    "opcao = int (input (\"Opção: \"))\n",
    "print (\"Digite os valores de entrada. Digite 0 para finalizar a entrada de valores.\")\n",
    "if opcao == 1:\n",
    "    result = float (\"-inf\")\n",
    "    op_function = lambda a, b: a > b\n",
    "else:\n",
    "    result = float (\"inf\")\n",
    "    op_function = lambda a, b: a < b\n",
    "while True:\n",
    "    valor = int (input ())\n",
    "    if valor == 0: break\n",
    "    if op_function (valor, result):\n",
    "        result = valor\n",
    "print (result)"
   ]
  },
  {
   "cell_type": "code",
   "execution_count": null,
   "id": "832eb9e6-1b67-4d16-a6f1-71712fdedb02",
   "metadata": {},
   "outputs": [],
   "source": []
  }
 ],
 "metadata": {
  "kernelspec": {
   "display_name": "Python 3 (ipykernel)",
   "language": "python",
   "name": "python3"
  },
  "language_info": {
   "codemirror_mode": {
    "name": "ipython",
    "version": 3
   },
   "file_extension": ".py",
   "mimetype": "text/x-python",
   "name": "python",
   "nbconvert_exporter": "python",
   "pygments_lexer": "ipython3",
   "version": "3.12.3"
  }
 },
 "nbformat": 4,
 "nbformat_minor": 5
}
