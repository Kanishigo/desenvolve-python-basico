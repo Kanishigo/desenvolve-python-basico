{
 "cells": [
  {
   "cell_type": "markdown",
   "id": "29e89030",
   "metadata": {},
   "source": [
    "# Módulo 4 - Repetições\n",
    "\n",
    "## Aulas 4.2 - Comando ```for``` e 4.3 Break e Continue"
   ]
  },
  {
   "cell_type": "markdown",
   "id": "a45b42df",
   "metadata": {},
   "source": [
    "### Q1.\n",
    "\n",
    "Crie um programa em Python que utilize o comando for para imprimir os números de 10 a 1, em ordem decrescente."
   ]
  },
  {
   "cell_type": "code",
   "execution_count": 7,
   "id": "55a75b3d",
   "metadata": {},
   "outputs": [
    {
     "name": "stdout",
     "output_type": "stream",
     "text": [
      "10\n",
      "9\n",
      "8\n",
      "7\n",
      "6\n",
      "5\n",
      "4\n",
      "3\n",
      "2\n",
      "1\n"
     ]
    }
   ],
   "source": [
    "## Escreva e execute seu código aqui\n",
    "for i in range (10, 0, -1):\n",
    "    print (i)"
   ]
  },
  {
   "cell_type": "markdown",
   "id": "94b47c36",
   "metadata": {},
   "source": [
    "### Q2.\n",
    "\n",
    "Dado um número inteiro positivo informado pelo usuário, crie um programa em Python que utilize o comando for para calcular e exibir a soma dos números de 1 até o número informado. Ou seja, $1 + 2 + 3 + ... + n$\n",
    "\n",
    "Exemplo de interação:\n",
    "```\n",
    "Digite um número: 5\n",
    "A soma dos números de 1 a 5 é 15\n",
    "```\n"
   ]
  },
  {
   "cell_type": "code",
   "execution_count": 9,
   "id": "45b71596",
   "metadata": {},
   "outputs": [
    {
     "name": "stdin",
     "output_type": "stream",
     "text": [
      "Digite um número inteiro:  10\n"
     ]
    },
    {
     "name": "stdout",
     "output_type": "stream",
     "text": [
      "A soma dos números de 1 a 10 é 55\n"
     ]
    }
   ],
   "source": [
    "## Escreva e execute seu código aqui\n",
    "n = int (input (\"Digite um número inteiro: \"))\n",
    "soma = 0\n",
    "for i in range (1, n+1, 1):\n",
    "    soma += i\n",
    "print (f\"A soma dos números de 1 a {n} é {soma}\")"
   ]
  },
  {
   "cell_type": "markdown",
   "id": "0411d170",
   "metadata": {},
   "source": [
    "### Q3.\n",
    "\n",
    "Escreva um programa que lê 10 valores inteiros positivos do usuário e ao final imprime a média dos valores digitados com duas casas decimais.\n",
    "\n",
    "```\n",
    "Digite 10 números positivos:\n",
    "3\n",
    "2\n",
    "12\n",
    "14\n",
    "20\n",
    "42\n",
    "19\n",
    "0\n",
    "8\n",
    "1\n",
    "A média dos valores digitados é 12.10\n",
    "```"
   ]
  },
  {
   "cell_type": "code",
   "execution_count": 11,
   "id": "3f72f358",
   "metadata": {},
   "outputs": [
    {
     "name": "stdin",
     "output_type": "stream",
     "text": [
      "Digite o 1º número inteiro:  10\n",
      "Digite o 2º número inteiro:  20\n",
      "Digite o 3º número inteiro:  30\n",
      "Digite o 4º número inteiro:  40\n",
      "Digite o 5º número inteiro:  50\n",
      "Digite o 6º número inteiro:  60\n",
      "Digite o 7º número inteiro:  70\n",
      "Digite o 8º número inteiro:  80\n",
      "Digite o 9º número inteiro:  90\n",
      "Digite o 10º número inteiro:  100\n"
     ]
    },
    {
     "name": "stdout",
     "output_type": "stream",
     "text": [
      "A média dos valores digitados é 55.00\n"
     ]
    }
   ],
   "source": [
    "## Escreva e execute seu código aqui\n",
    "soma = 0\n",
    "for i in range (10):\n",
    "    n = int (input (f\"Digite o {i+1}º número inteiro: \"))\n",
    "    soma += n\n",
    "print (f\"A média dos valores digitados é {(soma/10):.2f}\")"
   ]
  },
  {
   "cell_type": "markdown",
   "id": "d62e27ff",
   "metadata": {},
   "source": [
    "### Q4.\n",
    "\n",
    "Você vai criar um sistema que registra os resultados dos jogos do Atlético MG ao longo de um campeonato. Seu sistema vai receber os resultados de todos os jogos do Galo, e deve calcular a pontuação do time sabendo que vitórias valem 3 pontos, empates 1 ponto e derrotas 0 pontos.\n",
    "\n",
    "Entrada: <br>\n",
    "A primeira linha de entrada é um inteiro N com a quantidade jogos do galo. Para cada jogo você deve ler 2 inteiros, o primeiro com a quantidade de gols do galo e o segundo com a quantidade de gols do time oponente. \n",
    "\n",
    "Saída: <br>\n",
    "Apresente a soma de vitórias, empates e derrotas do galo, junto com o cálculo da pontuação total.\n",
    "\n",
    "Ex:\n",
    "```\n",
    "Entrada:\n",
    "4\n",
    "2\n",
    "0\n",
    "1\n",
    "1\n",
    "0\n",
    "3\n",
    "1\n",
    "0\n",
    "\n",
    "Saída:\n",
    "Vitórias: 2\n",
    "Empates: 1\n",
    "Derrotas: 1\n",
    "Pontuação: 7\n",
    "\n",
    "```\n",
    "\n",
    "\n"
   ]
  },
  {
   "cell_type": "code",
   "execution_count": 12,
   "id": "d3fdfc2a",
   "metadata": {},
   "outputs": [
    {
     "name": "stdin",
     "output_type": "stream",
     "text": [
      "Digite o número de jogos:  4\n",
      "Digite a quantidade de gols do Galo, na partida 1:  2\n",
      "Digite a quantidade de gols do adversário, na partida 1:  0\n",
      "Digite a quantidade de gols do Galo, na partida 2:  1\n",
      "Digite a quantidade de gols do adversário, na partida 2:  1\n",
      "Digite a quantidade de gols do Galo, na partida 3:  0\n",
      "Digite a quantidade de gols do adversário, na partida 3:  3\n",
      "Digite a quantidade de gols do Galo, na partida 4:  1\n",
      "Digite a quantidade de gols do adversário, na partida 4:  0\n"
     ]
    },
    {
     "name": "stdout",
     "output_type": "stream",
     "text": [
      "Vitórias: 2\n",
      "Empates: 1\n",
      "Derrotas: 1\n",
      "Pontuação: 7\n"
     ]
    }
   ],
   "source": [
    "## Escreva e execute seu código aqui\n",
    "jogos = int (input (\"Digite o número de jogos: \"))\n",
    "(vit, der, emp, pont) = (0, 0, 0, 0)\n",
    "for i in range (jogos):\n",
    "    galo = int (input (f\"Digite a quantidade de gols do Galo, na partida {i+1}: \"))\n",
    "    adv = int (input (f\"Digite a quantidade de gols do adversário, na partida {i+1}: \"))\n",
    "    if galo > adv:\n",
    "        vit += 1\n",
    "        pont += 3\n",
    "    elif galo == adv:\n",
    "        emp += 1\n",
    "        pont += 1\n",
    "    else:\n",
    "        der += 1\n",
    "print (f\"Vitórias: {vit}\")\n",
    "print (f\"Empates: {emp}\")\n",
    "print (f\"Derrotas: {der}\")\n",
    "print (f\"Pontuação: {pont}\")"
   ]
  },
  {
   "cell_type": "markdown",
   "id": "fc98604d",
   "metadata": {},
   "source": [
    "### Q5.\n",
    "\n",
    "Faça um programa que lê dois inteiros N e M, e imprime na tela um campo de batalha naval. O tabuleiro deve possuir N linhas e M colunas. A primeira linha é composta por um espaço em branco e o cabeçalho das colunas, ou seja, valores de 1 a M. As N linhas seguintes iniciam com o cabeçalho da linha, ou seja, seu número, seguido de M caracteres \"/\" (barra) indicando uma possível posição jogável. \n",
    "\n",
    "```\n",
    "Entrada:\n",
    "5\n",
    "4\n",
    "\n",
    "Saída:\n",
    "  1 2 3 4 \n",
    "1 / / / / \n",
    "2 / / / / \n",
    "3 / / / / \n",
    "4 / / / / \n",
    "5 / / / / \n",
    "```\n",
    "\n",
    "Para esse exercício, precisamos lembrar que o comando print implicitamente adiciona uma quebra de linha ao final da impressão. Podemos interferir no final da impressão adicionando mais uma entrada ao print. No exemplo, finalizamos cada linha com um espaço em branco:\n",
    "```python\n",
    "print(\"Texto qualquer\", end = \" \")\n",
    "```"
   ]
  },
  {
   "cell_type": "code",
   "execution_count": 36,
   "id": "a60ef197",
   "metadata": {},
   "outputs": [
    {
     "name": "stdin",
     "output_type": "stream",
     "text": [
      "Digite a quantidade de linhas:  5\n",
      "Digite a quantidade de colunas:  4\n"
     ]
    },
    {
     "name": "stdout",
     "output_type": "stream",
     "text": [
      "  1 2 3 4 \n",
      "1 / / / / \n",
      "2 / / / / \n",
      "3 / / / / \n",
      "4 / / / / \n",
      "5 / / / / \n"
     ]
    }
   ],
   "source": [
    "## Escreva e execute seu código aqui\n",
    "n = int (input (\"Digite a quantidade de linhas: \"))\n",
    "m = int (input (\"Digite a quantidade de colunas: \"))\n",
    "for i in range (n+1):\n",
    "    if i == 0:\n",
    "        print (\" \", end = \" \")\n",
    "        for aux in range (m):\n",
    "            print (aux+1, end = \" \")\n",
    "        print (\"\")\n",
    "    else:\n",
    "        for j in range (m+1):\n",
    "            if j == 0:\n",
    "                print (i, end = \" \")\n",
    "            else:\n",
    "                print (\"/\", end = \" \")\n",
    "        print (\"\")"
   ]
  },
  {
   "cell_type": "markdown",
   "id": "4654dc0b",
   "metadata": {},
   "source": [
    "---\n",
    "## Break e Continue"
   ]
  },
  {
   "cell_type": "markdown",
   "id": "24fe9d85",
   "metadata": {},
   "source": [
    "### Q6.\n",
    "\n",
    "Escreva um programa que lê uma quantidade indefinida de valores e informa o maior e o menor valor digitados. A leitura é encerrada quando o usuário digitar o valor 0 (zero).\n",
    "\n",
    "```\n",
    "Entrada:\n",
    "12\n",
    "-1\n",
    "29\n",
    "11\n",
    "-5\n",
    "0\n",
    "\n",
    "Saída:\n",
    "Maior: 29\n",
    "Menor: -5\n",
    "```"
   ]
  },
  {
   "cell_type": "code",
   "execution_count": 1,
   "id": "ee1c466a",
   "metadata": {},
   "outputs": [
    {
     "name": "stdin",
     "output_type": "stream",
     "text": [
      "Digite um número inteiro (zero para sair):  12\n",
      "Digite um número inteiro (zero para sair):  -1\n",
      "Digite um número inteiro (zero para sair):  29\n",
      "Digite um número inteiro (zero para sair):  11\n",
      "Digite um número inteiro (zero para sair):  -5\n",
      "Digite um número inteiro (zero para sair):  0\n"
     ]
    },
    {
     "name": "stdout",
     "output_type": "stream",
     "text": [
      "Maior: 29\n",
      "Menor: -5\n"
     ]
    }
   ],
   "source": [
    "## Escreva e execute seu código aqui\n",
    "maior = 0\n",
    "menor = 100000\n",
    "n = 1\n",
    "while n != 0:\n",
    "    n = int (input (\"Digite um número inteiro (zero para sair): \"))\n",
    "    if n > maior:\n",
    "        maior = n\n",
    "    if n < menor:\n",
    "        menor = n\n",
    "print (f\"Maior: {maior}\")\n",
    "print (f\"Menor: {menor}\")"
   ]
  },
  {
   "cell_type": "markdown",
   "id": "30d486f7",
   "metadata": {},
   "source": [
    "### Q7.\n",
    "\n",
    "Escreva um programa que lê uma quantidade indefinida de valores e informa o **produto** dos valores positivos digitados. A leitura é encerrada quando o usuário digitar o valor 0 (zero).\n",
    "\n",
    "```\n",
    "Entrada:\n",
    "2\n",
    "-1\n",
    "1\n",
    "3\n",
    "-5\n",
    "0\n",
    "\n",
    "Saída:\n",
    "Produto: 6\n",
    "```"
   ]
  },
  {
   "cell_type": "code",
   "execution_count": 4,
   "id": "2f1ac324",
   "metadata": {},
   "outputs": [
    {
     "name": "stdin",
     "output_type": "stream",
     "text": [
      "Digite um número inteiro (zero para sair):  5\n",
      "Digite um número inteiro (zero para sair):  2\n",
      "Digite um número inteiro (zero para sair):  -1\n",
      "Digite um número inteiro (zero para sair):  -5\n",
      "Digite um número inteiro (zero para sair):  3\n",
      "Digite um número inteiro (zero para sair):  0\n"
     ]
    },
    {
     "name": "stdout",
     "output_type": "stream",
     "text": [
      "Produto: 30\n"
     ]
    }
   ],
   "source": [
    "## Escreva e execute seu código aqui\n",
    "prod = 1\n",
    "n = 100000\n",
    "for i in range (n):\n",
    "    n = int (input (\"Digite um número inteiro (zero para sair): \"))\n",
    "    if n == 0:\n",
    "        break\n",
    "    elif n > 0:\n",
    "        prod *= n\n",
    "print (f\"Produto: {prod}\")"
   ]
  },
  {
   "cell_type": "markdown",
   "id": "e932f3cf",
   "metadata": {},
   "source": [
    "### Q8.\n",
    "\n",
    "Vamos fazer uma calculadora que aceita expressões aritméticas de qualquer tamanho até que o usuário digite a palavra \"Fim\". Sua calculadora executa apenas as operações \"+\", \"-\".\n",
    "\n",
    "```\n",
    "Entrada:\n",
    "5\n",
    "+\n",
    "8\n",
    "-\n",
    "3\n",
    "+\n",
    "2\n",
    "Fim\n",
    "\n",
    "Saída:\n",
    "12\n",
    "```"
   ]
  },
  {
   "cell_type": "code",
   "execution_count": 32,
   "id": "e835d870",
   "metadata": {},
   "outputs": [
    {
     "name": "stdin",
     "output_type": "stream",
     "text": [
      "Digite um número inteiro:  5\n",
      "Digite a operação desejada (Soma: '+', Subtração: '-'), 'FIM' para sair:  +\n",
      "Digite outro número inteiro:  8\n",
      "Digite a operação desejada (Soma: '+', Subtração: '-'), 'FIM' para sair:  -\n",
      "Digite outro número inteiro:  3\n",
      "Digite a operação desejada (Soma: '+', Subtração: '-'), 'FIM' para sair:  +\n",
      "Digite outro número inteiro:  2\n",
      "Digite a operação desejada (Soma: '+', Subtração: '-'), 'FIM' para sair:  FIM\n"
     ]
    },
    {
     "name": "stdout",
     "output_type": "stream",
     "text": [
      "Resultado: 12\n"
     ]
    }
   ],
   "source": [
    "## Escreva e execute seu código aqui\n",
    "result = int (input (\"Digite um número inteiro: \"))\n",
    "n = 100000\n",
    "for i in range (n):\n",
    "    opera = input (\"Digite a operação desejada (Soma: '+', Subtração: '-'), 'FIM' para sair: \")\n",
    "    if opera == \"FIM\":\n",
    "        break\n",
    "    else:\n",
    "        aux = int (input (\"Digite outro número inteiro: \"))\n",
    "        if opera == \"+\":\n",
    "            result += aux\n",
    "        else:\n",
    "            result = result - aux\n",
    "print (f\"Resultado: {result}\")"
   ]
  },
  {
   "cell_type": "code",
   "execution_count": null,
   "id": "5fa5059c-cc69-4342-902e-b6a8188e028a",
   "metadata": {},
   "outputs": [],
   "source": []
  }
 ],
 "metadata": {
  "kernelspec": {
   "display_name": "Python 3 (ipykernel)",
   "language": "python",
   "name": "python3"
  },
  "language_info": {
   "codemirror_mode": {
    "name": "ipython",
    "version": 3
   },
   "file_extension": ".py",
   "mimetype": "text/x-python",
   "name": "python",
   "nbconvert_exporter": "python",
   "pygments_lexer": "ipython3",
   "version": "3.12.3"
  }
 },
 "nbformat": 4,
 "nbformat_minor": 5
}
